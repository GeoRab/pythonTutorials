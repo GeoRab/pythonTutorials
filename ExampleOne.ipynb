{
 "metadata": {
  "name": ""
 },
 "nbformat": 3,
 "nbformat_minor": 0,
 "worksheets": [
  {
   "cells": [
    {
     "cell_type": "markdown",
     "metadata": {},
     "source": [
      "#Help for the Elf management\n",
      "\n",
      "It's that time of the year again: The toy crunch is upon us. The elves are *way* behind on wooden horses, and they need to put their best wooden horse cobblers on the assembly line.\n",
      "\n",
      "Unfortunately, the diligent toy makers are not the best record keepers. They don't like retyping names, so they nest their data like this:\n",
      "\n",
      "| Elf | Toy | Count |\n",
      "| --- | --- | -----:|\n",
      "|Buddy|Etch-a-Sketch|2|\n",
      "||Jack in the Box|7|\n",
      "|Jovie|Etch-a-Sketch|14|\n",
      "||Jack in the Box|25|\n",
      "||Wooden Horse|6|\n",
      "\n",
      "If you have a spreadsheet program installed, try opening `santaSample.csv` in it. It's a sample of the elves' records. We need to write a script that edits this data to fill in the right name; then, we need to filter out everything that's not a wooden horse.\n",
      "\n",
      "Thankfully, the library `pandas` can help us out.\n",
      "\n",
      "## What's `pandas`?\n",
      "\n",
      "[`pandas`](http://pandas.pydata.org/) is a library for data analysis. For now, think of a library like this: It's an existing batch of code with instructions\u2014called \"documentation\"\u2014on how to use it. In particular, a user doesn't need to know the internal details of how a library works to make good use of it. A libary\n",
      "\n",
      "`pandas` is also an example of a Python **module**: A collection of related code, packaged together. Don't let yourself get hung up on the difference between modules and libraries. [It's fluffy at best](http://stackoverflow.com/questions/19198166/whats-the-difference-between-a-module-and-a-library-in-python).\n",
      "\n",
      "Why `pandas`? It uses something called a `DataFrame` object, which can handle lots of this routine data munging type stuff for us.\n",
      "\n",
      "To use a module like `pandas`, we need to **import** it into our program."
     ]
    },
    {
     "cell_type": "code",
     "collapsed": false,
     "input": [
      "import pandas as pd"
     ],
     "language": "python",
     "metadata": {},
     "outputs": [],
     "prompt_number": 1
    },
    {
     "cell_type": "markdown",
     "metadata": {},
     "source": [
      "What's going on here? The `import` statement is used to access code in a module. Using `as` lets us use whatever name we like for the module we've just pulled in. We could name it anything we like: `import pandas as santasBeard` would work just as well. \n",
      "\n",
      "Why `pd`? It's conventional (lots of Python programmers use it), it's convenient, and it's distinctive enough that we won't likely want to use these two letters for something else in our code.\n",
      "\n",
      "Now lets play with a `DataFrame`."
     ]
    },
    {
     "cell_type": "code",
     "collapsed": false,
     "input": [
      "import pandas as pd\n",
      "elfStats = [{\"name\":\"Buddy\", \"height\": 75, \"weight\": 185},{\"name\":\"Papa\", \"height\":48, \"weight\":105}]\n",
      "elfStatsDf = pd.DataFrame(elfStats)"
     ],
     "language": "python",
     "metadata": {},
     "outputs": [],
     "prompt_number": 2
    },
    {
     "cell_type": "markdown",
     "metadata": {},
     "source": [
      "A few key programming lessons:\n",
      "\n",
      " - The equals sign `=` in Python, and most other languages, is an assignment operator. It says, \"Take whatever is to my right, and name it whatever is to my left.\"\n",
      " - Brackets usually indicate some sort of data structure that is, intuitively, like a list. Python calls this structure a 'list', but other languages use other terms, or may use 'list' differently."
     ]
    },
    {
     "cell_type": "code",
     "collapsed": false,
     "input": [
      "print elfStatsDf"
     ],
     "language": "python",
     "metadata": {},
     "outputs": [
      {
       "output_type": "stream",
       "stream": "stdout",
       "text": [
        "   height   name  weight\n",
        "0      75  Buddy     185\n",
        "1      48   Papa     105\n",
        "\n",
        "[2 rows x 3 columns]\n"
       ]
      }
     ],
     "prompt_number": 3
    },
    {
     "cell_type": "markdown",
     "metadata": {},
     "source": [
      "Using `print` lets us see what a `DataFrame`, or anything else, looks like up close and personal. \n",
      "\n",
      "Notice that the `DataFrame` resembles the row-and-column structure of spreadsheet. Remember all those times you've summed a column in Excel? `pandas` can do that too:"
     ]
    },
    {
     "cell_type": "code",
     "collapsed": false,
     "input": [
      "print elfStatsDf.sum()"
     ],
     "language": "python",
     "metadata": {},
     "outputs": [
      {
       "output_type": "stream",
       "stream": "stdout",
       "text": [
        "height          123\n",
        "name      BuddyPapa\n",
        "weight          290\n",
        "dtype: object\n"
       ]
      }
     ],
     "prompt_number": 4
    },
    {
     "cell_type": "markdown",
     "metadata": {},
     "source": [
      "`.sum()` is a special type of **function**. Functions are just like the ones you studied in math class:\n",
      "\n",
      "$$f(x) = x^2$$\n",
      "\n",
      "Python would do the same thing, like this:\n",
      "\n",
      "    def square(x):\n",
      "        return pow(x,2)\n",
      "\n",
      "Intuitively, functions are just things we rely on to complete tasks. They can be simple, like `square`, or much more complex. Most importantly, we use them to accomplish things we need to do time and again. They're our way of taking a bunch of steps, blocking them together, and saving them in a form we can reuse later. \n",
      "\n",
      "In particular, `.sum()` is a **method** belonging to the `DataFrame` **class**. This is where definitions can get confusing, because they all sort of reference each other. Here's a rough and tumble guide to keeping them straight:\n",
      "\n",
      " - A class is a blueprint for something called an instance. Your bike is an instance; the class is the set of specifications used to build it.\n",
      " - Not every bike is identical, even if they're the same model. Yours might be a stock blue, and someone else's might be green. Maybe someone else raised the seat. That is, objects have **attributes**, and each instance of an object has their own.\n",
      " - Methods associated with the class perform operations. Frequently, these operations rely on some data attribute of the class instance. `andrewsBike.getColor()` might tell you the color of Andrew's bike. Call `andrewsBike.setColor(\"blue\")`, and you might have just painted his bike.\n",
      "\n",
      "So in the parlance we just outlined above, we want to create an instance of the class `DataFrame` that uses the data in `santaSample.csv`, then use some methods to perform operations on that data.\n",
      "\n",
      "Does `pandas` include a method to do this? Google around a bit and try to find out. If you don't have any luck, start [here](http://pandas.pydata.org/pandas-docs/stable/io.html). "
     ]
    },
    {
     "cell_type": "code",
     "collapsed": false,
     "input": [
      "toyData=pd.read_csv('santaSample.csv')\n",
      "print toyData"
     ],
     "language": "python",
     "metadata": {},
     "outputs": [
      {
       "output_type": "stream",
       "stream": "stdout",
       "text": [
        "            Elf              Toy  Count\n",
        "0         Buddy    Etch-a-Sketch      2\n",
        "1           NaN  Jack in the Box      7\n",
        "2         Jovie    Etch-a-Sketch     14\n",
        "3           NaN  Jack in the Box     25\n",
        "4           NaN     Wooden Horse      6\n",
        "5          Papa    Etch-a-Sketch    435\n",
        "6           NaN  Jack in the Box    680\n",
        "7           NaN     Wooden Horse     39\n",
        "8   Gary Easter    Etch-a-Sketch    415\n",
        "9           NaN  Jack in the Box    675\n",
        "10          NaN     Wooden Horse    184\n",
        "\n",
        "[11 rows x 3 columns]\n"
       ]
      }
     ],
     "prompt_number": 5
    },
    {
     "cell_type": "markdown",
     "metadata": {},
     "source": [
      "See? Just like a spreadsheet. We even still have those pesky blank cells, expect they're replaced with `NaN`. This stands for \"not a number\"; by default, `pandas` treats blank cells as `NaN`. (My dad builds helicopters. Apparently assembling Black Hawks and wooden horses are transferable skills\u2014who knew?) "
     ]
    },
    {
     "cell_type": "markdown",
     "metadata": {},
     "source": [
      "## \"Read the docs\"\n",
      "\n",
      "As you learn to program, you'll spend tons of time on the web: You'll read tutorials, look through examples, and read question and answer sites. Sooner or later, you'll come across a refrain, \"Read the docs.\" It's an almost-pleasant way of telling someone that the answer to their question is answered in the library documentation.\n",
      "\n",
      "Since we've got our data properly represented, now is a good time to look through the [`DataFrame` docs](http://pandas.pydata.org/pandas-docs/stable/generated/pandas.DataFrame.html#pandas.DataFrame) for a method that'll help replace those `NaN` values. \n",
      "\n",
      "(Hint: The operation we're trying to accomplish here is called a 'forward fill.')"
     ]
    },
    {
     "cell_type": "code",
     "collapsed": false,
     "input": [
      "toyDataEdit=toyData.ffill()\n",
      "print toyDataEdit"
     ],
     "language": "python",
     "metadata": {},
     "outputs": [
      {
       "output_type": "stream",
       "stream": "stdout",
       "text": [
        "            Elf              Toy  Count\n",
        "0         Buddy    Etch-a-Sketch      2\n",
        "1         Buddy  Jack in the Box      7\n",
        "2         Jovie    Etch-a-Sketch     14\n",
        "3         Jovie  Jack in the Box     25\n",
        "4         Jovie     Wooden Horse      6\n",
        "5          Papa    Etch-a-Sketch    435\n",
        "6          Papa  Jack in the Box    680\n",
        "7          Papa     Wooden Horse     39\n",
        "8   Gary Easter    Etch-a-Sketch    415\n",
        "9   Gary Easter  Jack in the Box    675\n",
        "10  Gary Easter     Wooden Horse    184\n",
        "\n",
        "[11 rows x 3 columns]\n"
       ]
      }
     ],
     "prompt_number": 8
    },
    {
     "cell_type": "markdown",
     "metadata": {},
     "source": [
      "Perfect! Now each row is a full record. We just need to filter out the rest of those other, irrelevant toys. To do that, we'll use a `pandas` **boolean array**. "
     ]
    },
    {
     "cell_type": "code",
     "collapsed": false,
     "input": [
      "print toyData['Toy'] == \"Wooden Horse\""
     ],
     "language": "python",
     "metadata": {},
     "outputs": [
      {
       "output_type": "stream",
       "stream": "stdout",
       "text": [
        "0     False\n",
        "1     False\n",
        "2     False\n",
        "3     False\n",
        "4      True\n",
        "5     False\n",
        "6     False\n",
        "7      True\n",
        "8     False\n",
        "9     False\n",
        "10     True\n",
        "Name: Toy, dtype: bool\n"
       ]
      }
     ],
     "prompt_number": 10
    },
    {
     "cell_type": "markdown",
     "metadata": {},
     "source": [
      "It's essentially a big list of whether or not a certain condition is true for each row in the `DataFrame`. Cool, but the big win is that `pandas` lets you use these for **indexing**."
     ]
    },
    {
     "cell_type": "code",
     "collapsed": false,
     "input": [
      "toyData = toyData[toyData['Toy'] == \"Wooden Horse\"]\n",
      "print toyData"
     ],
     "language": "python",
     "metadata": {},
     "outputs": [
      {
       "ename": "KeyError",
       "evalue": "u'no item named Toy'",
       "output_type": "pyerr",
       "traceback": [
        "\u001b[0;31m---------------------------------------------------------------------------\u001b[0m\n\u001b[0;31mKeyError\u001b[0m                                  Traceback (most recent call last)",
        "\u001b[0;32m<ipython-input-14-17f014f8228e>\u001b[0m in \u001b[0;36m<module>\u001b[0;34m()\u001b[0m\n\u001b[0;32m----> 1\u001b[0;31m \u001b[0mtoyData\u001b[0m \u001b[0;34m=\u001b[0m \u001b[0mtoyData\u001b[0m\u001b[0;34m[\u001b[0m\u001b[0mtoyData\u001b[0m\u001b[0;34m[\u001b[0m\u001b[0;34m'Toy'\u001b[0m\u001b[0;34m]\u001b[0m \u001b[0;34m==\u001b[0m \u001b[0;34m\"Wooden Horse\"\u001b[0m\u001b[0;34m]\u001b[0m\u001b[0;34m\u001b[0m\u001b[0m\n\u001b[0m\u001b[1;32m      2\u001b[0m \u001b[0;32mprint\u001b[0m \u001b[0mtoyData\u001b[0m\u001b[0;34m\u001b[0m\u001b[0m\n",
        "\u001b[0;32m/Users/seaneaster/anaconda/lib/python2.7/site-packages/pandas/core/frame.pyc\u001b[0m in \u001b[0;36m__getitem__\u001b[0;34m(self, key)\u001b[0m\n\u001b[1;32m   1656\u001b[0m             \u001b[0;32mreturn\u001b[0m \u001b[0mself\u001b[0m\u001b[0;34m.\u001b[0m\u001b[0m_getitem_multilevel\u001b[0m\u001b[0;34m(\u001b[0m\u001b[0mkey\u001b[0m\u001b[0;34m)\u001b[0m\u001b[0;34m\u001b[0m\u001b[0m\n\u001b[1;32m   1657\u001b[0m         \u001b[0;32melse\u001b[0m\u001b[0;34m:\u001b[0m\u001b[0;34m\u001b[0m\u001b[0m\n\u001b[0;32m-> 1658\u001b[0;31m             \u001b[0;32mreturn\u001b[0m \u001b[0mself\u001b[0m\u001b[0;34m.\u001b[0m\u001b[0m_getitem_column\u001b[0m\u001b[0;34m(\u001b[0m\u001b[0mkey\u001b[0m\u001b[0;34m)\u001b[0m\u001b[0;34m\u001b[0m\u001b[0m\n\u001b[0m\u001b[1;32m   1659\u001b[0m \u001b[0;34m\u001b[0m\u001b[0m\n\u001b[1;32m   1660\u001b[0m     \u001b[0;32mdef\u001b[0m \u001b[0m_getitem_column\u001b[0m\u001b[0;34m(\u001b[0m\u001b[0mself\u001b[0m\u001b[0;34m,\u001b[0m \u001b[0mkey\u001b[0m\u001b[0;34m)\u001b[0m\u001b[0;34m:\u001b[0m\u001b[0;34m\u001b[0m\u001b[0m\n",
        "\u001b[0;32m/Users/seaneaster/anaconda/lib/python2.7/site-packages/pandas/core/frame.pyc\u001b[0m in \u001b[0;36m_getitem_column\u001b[0;34m(self, key)\u001b[0m\n\u001b[1;32m   1663\u001b[0m         \u001b[0;31m# get column\u001b[0m\u001b[0;34m\u001b[0m\u001b[0;34m\u001b[0m\u001b[0m\n\u001b[1;32m   1664\u001b[0m         \u001b[0;32mif\u001b[0m \u001b[0mself\u001b[0m\u001b[0;34m.\u001b[0m\u001b[0mcolumns\u001b[0m\u001b[0;34m.\u001b[0m\u001b[0mis_unique\u001b[0m\u001b[0;34m:\u001b[0m\u001b[0;34m\u001b[0m\u001b[0m\n\u001b[0;32m-> 1665\u001b[0;31m             \u001b[0;32mreturn\u001b[0m \u001b[0mself\u001b[0m\u001b[0;34m.\u001b[0m\u001b[0m_get_item_cache\u001b[0m\u001b[0;34m(\u001b[0m\u001b[0mkey\u001b[0m\u001b[0;34m)\u001b[0m\u001b[0;34m\u001b[0m\u001b[0m\n\u001b[0m\u001b[1;32m   1666\u001b[0m \u001b[0;34m\u001b[0m\u001b[0m\n\u001b[1;32m   1667\u001b[0m         \u001b[0;31m# duplicate columns & possible reduce dimensionaility\u001b[0m\u001b[0;34m\u001b[0m\u001b[0;34m\u001b[0m\u001b[0m\n",
        "\u001b[0;32m/Users/seaneaster/anaconda/lib/python2.7/site-packages/pandas/core/generic.pyc\u001b[0m in \u001b[0;36m_get_item_cache\u001b[0;34m(self, item)\u001b[0m\n\u001b[1;32m   1003\u001b[0m         \u001b[0mres\u001b[0m \u001b[0;34m=\u001b[0m \u001b[0mcache\u001b[0m\u001b[0;34m.\u001b[0m\u001b[0mget\u001b[0m\u001b[0;34m(\u001b[0m\u001b[0mitem\u001b[0m\u001b[0;34m)\u001b[0m\u001b[0;34m\u001b[0m\u001b[0m\n\u001b[1;32m   1004\u001b[0m         \u001b[0;32mif\u001b[0m \u001b[0mres\u001b[0m \u001b[0;32mis\u001b[0m \u001b[0mNone\u001b[0m\u001b[0;34m:\u001b[0m\u001b[0;34m\u001b[0m\u001b[0m\n\u001b[0;32m-> 1005\u001b[0;31m             \u001b[0mvalues\u001b[0m \u001b[0;34m=\u001b[0m \u001b[0mself\u001b[0m\u001b[0;34m.\u001b[0m\u001b[0m_data\u001b[0m\u001b[0;34m.\u001b[0m\u001b[0mget\u001b[0m\u001b[0;34m(\u001b[0m\u001b[0mitem\u001b[0m\u001b[0;34m)\u001b[0m\u001b[0;34m\u001b[0m\u001b[0m\n\u001b[0m\u001b[1;32m   1006\u001b[0m             \u001b[0mres\u001b[0m \u001b[0;34m=\u001b[0m \u001b[0mself\u001b[0m\u001b[0;34m.\u001b[0m\u001b[0m_box_item_values\u001b[0m\u001b[0;34m(\u001b[0m\u001b[0mitem\u001b[0m\u001b[0;34m,\u001b[0m \u001b[0mvalues\u001b[0m\u001b[0;34m)\u001b[0m\u001b[0;34m\u001b[0m\u001b[0m\n\u001b[1;32m   1007\u001b[0m             \u001b[0mcache\u001b[0m\u001b[0;34m[\u001b[0m\u001b[0mitem\u001b[0m\u001b[0;34m]\u001b[0m \u001b[0;34m=\u001b[0m \u001b[0mres\u001b[0m\u001b[0;34m\u001b[0m\u001b[0m\n",
        "\u001b[0;32m/Users/seaneaster/anaconda/lib/python2.7/site-packages/pandas/core/internals.pyc\u001b[0m in \u001b[0;36mget\u001b[0;34m(self, item)\u001b[0m\n\u001b[1;32m   2871\u001b[0m                 \u001b[0;32mreturn\u001b[0m \u001b[0mself\u001b[0m\u001b[0;34m.\u001b[0m\u001b[0mget_for_nan_indexer\u001b[0m\u001b[0;34m(\u001b[0m\u001b[0mindexer\u001b[0m\u001b[0;34m)\u001b[0m\u001b[0;34m\u001b[0m\u001b[0m\n\u001b[1;32m   2872\u001b[0m \u001b[0;34m\u001b[0m\u001b[0m\n\u001b[0;32m-> 2873\u001b[0;31m             \u001b[0m_\u001b[0m\u001b[0;34m,\u001b[0m \u001b[0mblock\u001b[0m \u001b[0;34m=\u001b[0m \u001b[0mself\u001b[0m\u001b[0;34m.\u001b[0m\u001b[0m_find_block\u001b[0m\u001b[0;34m(\u001b[0m\u001b[0mitem\u001b[0m\u001b[0;34m)\u001b[0m\u001b[0;34m\u001b[0m\u001b[0m\n\u001b[0m\u001b[1;32m   2874\u001b[0m             \u001b[0;32mreturn\u001b[0m \u001b[0mblock\u001b[0m\u001b[0;34m.\u001b[0m\u001b[0mget\u001b[0m\u001b[0;34m(\u001b[0m\u001b[0mitem\u001b[0m\u001b[0;34m)\u001b[0m\u001b[0;34m\u001b[0m\u001b[0m\n\u001b[1;32m   2875\u001b[0m         \u001b[0;32melse\u001b[0m\u001b[0;34m:\u001b[0m\u001b[0;34m\u001b[0m\u001b[0m\n",
        "\u001b[0;32m/Users/seaneaster/anaconda/lib/python2.7/site-packages/pandas/core/internals.pyc\u001b[0m in \u001b[0;36m_find_block\u001b[0;34m(self, item)\u001b[0m\n\u001b[1;32m   3183\u001b[0m \u001b[0;34m\u001b[0m\u001b[0m\n\u001b[1;32m   3184\u001b[0m     \u001b[0;32mdef\u001b[0m \u001b[0m_find_block\u001b[0m\u001b[0;34m(\u001b[0m\u001b[0mself\u001b[0m\u001b[0;34m,\u001b[0m \u001b[0mitem\u001b[0m\u001b[0;34m)\u001b[0m\u001b[0;34m:\u001b[0m\u001b[0;34m\u001b[0m\u001b[0m\n\u001b[0;32m-> 3185\u001b[0;31m         \u001b[0mself\u001b[0m\u001b[0;34m.\u001b[0m\u001b[0m_check_have\u001b[0m\u001b[0;34m(\u001b[0m\u001b[0mitem\u001b[0m\u001b[0;34m)\u001b[0m\u001b[0;34m\u001b[0m\u001b[0m\n\u001b[0m\u001b[1;32m   3186\u001b[0m         \u001b[0;32mfor\u001b[0m \u001b[0mi\u001b[0m\u001b[0;34m,\u001b[0m \u001b[0mblock\u001b[0m \u001b[0;32min\u001b[0m \u001b[0menumerate\u001b[0m\u001b[0;34m(\u001b[0m\u001b[0mself\u001b[0m\u001b[0;34m.\u001b[0m\u001b[0mblocks\u001b[0m\u001b[0;34m)\u001b[0m\u001b[0;34m:\u001b[0m\u001b[0;34m\u001b[0m\u001b[0m\n\u001b[1;32m   3187\u001b[0m             \u001b[0;32mif\u001b[0m \u001b[0mitem\u001b[0m \u001b[0;32min\u001b[0m \u001b[0mblock\u001b[0m\u001b[0;34m:\u001b[0m\u001b[0;34m\u001b[0m\u001b[0m\n",
        "\u001b[0;32m/Users/seaneaster/anaconda/lib/python2.7/site-packages/pandas/core/internals.pyc\u001b[0m in \u001b[0;36m_check_have\u001b[0;34m(self, item)\u001b[0m\n\u001b[1;32m   3190\u001b[0m     \u001b[0;32mdef\u001b[0m \u001b[0m_check_have\u001b[0m\u001b[0;34m(\u001b[0m\u001b[0mself\u001b[0m\u001b[0;34m,\u001b[0m \u001b[0mitem\u001b[0m\u001b[0;34m)\u001b[0m\u001b[0;34m:\u001b[0m\u001b[0;34m\u001b[0m\u001b[0m\n\u001b[1;32m   3191\u001b[0m         \u001b[0;32mif\u001b[0m \u001b[0mitem\u001b[0m \u001b[0;32mnot\u001b[0m \u001b[0;32min\u001b[0m \u001b[0mself\u001b[0m\u001b[0;34m.\u001b[0m\u001b[0mitems\u001b[0m\u001b[0;34m:\u001b[0m\u001b[0;34m\u001b[0m\u001b[0m\n\u001b[0;32m-> 3192\u001b[0;31m             \u001b[0;32mraise\u001b[0m \u001b[0mKeyError\u001b[0m\u001b[0;34m(\u001b[0m\u001b[0;34m'no item named %s'\u001b[0m \u001b[0;34m%\u001b[0m \u001b[0mcom\u001b[0m\u001b[0;34m.\u001b[0m\u001b[0mpprint_thing\u001b[0m\u001b[0;34m(\u001b[0m\u001b[0mitem\u001b[0m\u001b[0;34m)\u001b[0m\u001b[0;34m)\u001b[0m\u001b[0;34m\u001b[0m\u001b[0m\n\u001b[0m\u001b[1;32m   3193\u001b[0m \u001b[0;34m\u001b[0m\u001b[0m\n\u001b[1;32m   3194\u001b[0m     def reindex_axis(self, new_axis, indexer=None, method=None, axis=0,\n",
        "\u001b[0;31mKeyError\u001b[0m: u'no item named Toy'"
       ]
      }
     ],
     "prompt_number": 14
    },
    {
     "cell_type": "markdown",
     "metadata": {},
     "source": [
      "See what happened there? When we place a boolean array in between `[]` after a `DataFrame`, we get only the `True` rows. This is called **indexing**. In many programming languages, brackets indicate an index operation. Brackets say, \"Take this thing to my left, and give me some thing or things in it.\"\n",
      "\n",
      "Typical Python indexing looks like this:\n",
      "\n",
      "    elves = [\"Buddy\", \"Papa\", \"Gary\"]\n",
      "    print elves[1]\n",
      "    >>> 'Papa'\n",
      "\n",
      "In addition to single indexes, Python supports ranges:\n",
      "\n",
      "    print elves[0:2]\n",
      "    >>> ['Papa', 'Buddy']\n",
      "\n",
      "But that's about all the indexing Python supports out of box. This `True` and `False` stunt we're pulling is a `pandas` addition.\n",
      "\n",
      "Thanks to `pandas` extra muscle, we've got almost exactly what we want! Let's get rid of that `Toy` column: We already know we're only interested in wooden horses. To do this, we'll leverage a little more of `pandas` indexing muscle."
     ]
    },
    {
     "cell_type": "code",
     "collapsed": false,
     "input": [
      "import pandas as pd\n",
      "toyData = pd.read_csv('santaSample.csv')\n",
      "toyData = toyData.ffill()\n",
      "toyData = toyData.ix[toyData['Toy'] == \"Wooden Horse\", [\"Elf\", \"Count\"]]\n",
      "print toyData"
     ],
     "language": "python",
     "metadata": {},
     "outputs": [
      {
       "output_type": "stream",
       "stream": "stdout",
       "text": [
        "            Elf  Count\n",
        "4         Jovie      6\n",
        "7          Papa     39\n",
        "10  Gary Easter    184\n",
        "\n",
        "[3 rows x 2 columns]\n"
       ]
      }
     ],
     "prompt_number": 15
    },
    {
     "cell_type": "markdown",
     "metadata": {},
     "source": [
      "`pandas` uses `.ix` to do some more heavy-duty indexing. Notice that there's a comma in the bracketed section. Before the comma, we place the row index like we did above; after the comma, we give a list of columns to include.\n",
      "\n",
      "Perfect, now we just need to write it to file."
     ]
    },
    {
     "cell_type": "code",
     "collapsed": false,
     "input": [
      "import pandas as pd\n",
      "toyData = pd.read_csv('santaSample.csv')\n",
      "toyData = toyData.ffill()\n",
      "toyData = toyData.ix[toyData['Toy'] == \"Wooden Horse\", [\"Elf\", \"Count\"]]\n",
      "toyData.to_csv(\"santaSampleFiltered.csv\", index = False)"
     ],
     "language": "python",
     "metadata": {},
     "outputs": [],
     "prompt_number": 17
    },
    {
     "cell_type": "code",
     "collapsed": false,
     "input": [],
     "language": "python",
     "metadata": {},
     "outputs": []
    }
   ],
   "metadata": {}
  }
 ]
}